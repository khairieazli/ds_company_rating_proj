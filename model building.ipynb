{
 "cells": [
  {
   "cell_type": "code",
   "execution_count": 2,
   "metadata": {},
   "outputs": [],
   "source": [
    "import pandas as pd \n",
    "import matplotlib.pyplot as plt \n",
    "import numpy as np "
   ]
  },
  {
   "cell_type": "code",
   "execution_count": 3,
   "metadata": {},
   "outputs": [],
   "source": [
    "df = pd.read_csv('eda_data.csv')"
   ]
  },
  {
   "cell_type": "code",
   "execution_count": 4,
   "metadata": {},
   "outputs": [
    {
     "data": {
      "text/plain": [
       "Index(['Job Title', 'Job Description', 'Rating', 'Company Name', 'Location',\n",
       "       'Size', 'Founded', 'Type of ownership', 'Industry', 'Sector', 'Revenue',\n",
       "       'Age', 'python_yn', 'sql_yn', 'tableau_yn', 'spark_yn', 'aws_yn',\n",
       "       'excel_yn', 'job_simp', 'seniority', 'desc_len'],\n",
       "      dtype='object')"
      ]
     },
     "execution_count": 4,
     "metadata": {},
     "output_type": "execute_result"
    }
   ],
   "source": [
    "df.columns"
   ]
  },
  {
   "cell_type": "code",
   "execution_count": 5,
   "metadata": {},
   "outputs": [],
   "source": [
    "# choose relevant colums for model\n",
    "df_model = df[['Rating','Location', 'Size', 'Founded', 'Type of ownership', 'Industry', 'Sector', 'Revenue', 'Age', 'python_yn', \n",
    "               'sql_yn', 'tableau_yn', 'spark_yn', 'aws_yn', 'excel_yn', 'job_simp', 'seniority', 'desc_len']]"
   ]
  },
  {
   "cell_type": "code",
   "execution_count": 6,
   "metadata": {},
   "outputs": [],
   "source": [
    "# get dummy data\n",
    "df_dum = pd.get_dummies(df_model)"
   ]
  },
  {
   "cell_type": "code",
   "execution_count": 7,
   "metadata": {},
   "outputs": [],
   "source": [
    "# train test split\n",
    "from sklearn.model_selection import train_test_split\n",
    "\n",
    "X = df_dum.drop('Rating', axis =1)\n",
    "y = df_dum.Rating.values\n",
    "\n",
    "X_train, X_test, y_train, y_test = train_test_split(X, y, test_size=0.2, random_state=42)\n"
   ]
  },
  {
   "cell_type": "code",
   "execution_count": 8,
   "metadata": {
    "scrolled": true
   },
   "outputs": [
    {
     "name": "stderr",
     "output_type": "stream",
     "text": [
      "C:\\Users\\khairie\\Anaconda3\\lib\\site-packages\\numpy\\core\\fromnumeric.py:2542: FutureWarning: Method .ptp is deprecated and will be removed in a future version. Use numpy.ptp instead.\n",
      "  return ptp(axis=axis, out=out, **kwargs)\n"
     ]
    },
    {
     "data": {
      "text/html": [
       "<table class=\"simpletable\">\n",
       "<caption>OLS Regression Results</caption>\n",
       "<tr>\n",
       "  <th>Dep. Variable:</th>            <td>y</td>        <th>  R-squared:         </th> <td>   0.908</td> \n",
       "</tr>\n",
       "<tr>\n",
       "  <th>Model:</th>                   <td>OLS</td>       <th>  Adj. R-squared:    </th> <td>   0.896</td> \n",
       "</tr>\n",
       "<tr>\n",
       "  <th>Method:</th>             <td>Least Squares</td>  <th>  F-statistic:       </th> <td>   80.99</td> \n",
       "</tr>\n",
       "<tr>\n",
       "  <th>Date:</th>             <td>Thu, 03 Dec 2020</td> <th>  Prob (F-statistic):</th> <td>3.84e-240</td>\n",
       "</tr>\n",
       "<tr>\n",
       "  <th>Time:</th>                 <td>04:31:34</td>     <th>  Log-Likelihood:    </th> <td>  261.23</td> \n",
       "</tr>\n",
       "<tr>\n",
       "  <th>No. Observations:</th>      <td>   611</td>      <th>  AIC:               </th> <td>  -388.5</td> \n",
       "</tr>\n",
       "<tr>\n",
       "  <th>Df Residuals:</th>          <td>   544</td>      <th>  BIC:               </th> <td>  -92.64</td> \n",
       "</tr>\n",
       "<tr>\n",
       "  <th>Df Model:</th>              <td>    66</td>      <th>                     </th>     <td> </td>    \n",
       "</tr>\n",
       "<tr>\n",
       "  <th>Covariance Type:</th>      <td>nonrobust</td>    <th>                     </th>     <td> </td>    \n",
       "</tr>\n",
       "</table>\n",
       "<table class=\"simpletable\">\n",
       "<tr>\n",
       "                          <td></td>                             <th>coef</th>     <th>std err</th>      <th>t</th>      <th>P>|t|</th>  <th>[0.025</th>    <th>0.975]</th>  \n",
       "</tr>\n",
       "<tr>\n",
       "  <th>const</th>                                             <td>    0.9972</td> <td>    0.122</td> <td>    8.199</td> <td> 0.000</td> <td>    0.758</td> <td>    1.236</td>\n",
       "</tr>\n",
       "<tr>\n",
       "  <th>Founded</th>                                           <td>    0.0007</td> <td> 6.93e-05</td> <td>   10.487</td> <td> 0.000</td> <td>    0.001</td> <td>    0.001</td>\n",
       "</tr>\n",
       "<tr>\n",
       "  <th>Age</th>                                               <td>    0.0004</td> <td>    0.002</td> <td>    0.230</td> <td> 0.818</td> <td>   -0.003</td> <td>    0.004</td>\n",
       "</tr>\n",
       "<tr>\n",
       "  <th>python_yn</th>                                         <td>   -0.0075</td> <td>    0.049</td> <td>   -0.154</td> <td> 0.877</td> <td>   -0.104</td> <td>    0.089</td>\n",
       "</tr>\n",
       "<tr>\n",
       "  <th>sql_yn</th>                                            <td>   -0.0332</td> <td>    0.058</td> <td>   -0.570</td> <td> 0.569</td> <td>   -0.148</td> <td>    0.081</td>\n",
       "</tr>\n",
       "<tr>\n",
       "  <th>tableau_yn</th>                                        <td>    0.0619</td> <td>    0.059</td> <td>    1.054</td> <td> 0.292</td> <td>   -0.053</td> <td>    0.177</td>\n",
       "</tr>\n",
       "<tr>\n",
       "  <th>spark_yn</th>                                          <td>   -0.2668</td> <td>    0.070</td> <td>   -3.797</td> <td> 0.000</td> <td>   -0.405</td> <td>   -0.129</td>\n",
       "</tr>\n",
       "<tr>\n",
       "  <th>aws_yn</th>                                            <td>   -0.0137</td> <td>    0.035</td> <td>   -0.391</td> <td> 0.696</td> <td>   -0.083</td> <td>    0.055</td>\n",
       "</tr>\n",
       "<tr>\n",
       "  <th>excel_yn</th>                                          <td>   -0.0948</td> <td>    0.047</td> <td>   -2.001</td> <td> 0.046</td> <td>   -0.188</td> <td>   -0.002</td>\n",
       "</tr>\n",
       "<tr>\n",
       "  <th>desc_len</th>                                          <td>-1.639e-05</td> <td> 3.54e-05</td> <td>   -0.463</td> <td> 0.643</td> <td>-8.59e-05</td> <td> 5.31e-05</td>\n",
       "</tr>\n",
       "<tr>\n",
       "  <th>Location_Cyberjaya</th>                                <td>    0.9187</td> <td>    0.114</td> <td>    8.068</td> <td> 0.000</td> <td>    0.695</td> <td>    1.142</td>\n",
       "</tr>\n",
       "<tr>\n",
       "  <th>Location_Klang</th>                                    <td>    0.8451</td> <td>    0.215</td> <td>    3.923</td> <td> 0.000</td> <td>    0.422</td> <td>    1.268</td>\n",
       "</tr>\n",
       "<tr>\n",
       "  <th>Location_Kuala Lumpur</th>                             <td>    0.2846</td> <td>    0.076</td> <td>    3.762</td> <td> 0.000</td> <td>    0.136</td> <td>    0.433</td>\n",
       "</tr>\n",
       "<tr>\n",
       "  <th>Location_Petaling Jaya</th>                            <td>    0.0189</td> <td>    0.093</td> <td>    0.202</td> <td> 0.840</td> <td>   -0.165</td> <td>    0.202</td>\n",
       "</tr>\n",
       "<tr>\n",
       "  <th>Location_Putrajaya</th>                                <td>   -0.1952</td> <td>    0.356</td> <td>   -0.548</td> <td> 0.584</td> <td>   -0.895</td> <td>    0.505</td>\n",
       "</tr>\n",
       "<tr>\n",
       "  <th>Location_Shah Alam</th>                                <td>   -0.5507</td> <td>    0.178</td> <td>   -3.095</td> <td> 0.002</td> <td>   -0.900</td> <td>   -0.201</td>\n",
       "</tr>\n",
       "<tr>\n",
       "  <th>Location_Subang Jaya</th>                              <td>   -0.3241</td> <td>    0.164</td> <td>   -1.974</td> <td> 0.049</td> <td>   -0.647</td> <td>   -0.002</td>\n",
       "</tr>\n",
       "<tr>\n",
       "  <th>Size_1 to 50 Employees</th>                            <td>    0.0973</td> <td>    0.135</td> <td>    0.723</td> <td> 0.470</td> <td>   -0.167</td> <td>    0.362</td>\n",
       "</tr>\n",
       "<tr>\n",
       "  <th>Size_10000+ Employees</th>                             <td>   -0.7668</td> <td>    0.270</td> <td>   -2.837</td> <td> 0.005</td> <td>   -1.298</td> <td>   -0.236</td>\n",
       "</tr>\n",
       "<tr>\n",
       "  <th>Size_1001 to 5000 Employees</th>                       <td>    0.0216</td> <td>    0.125</td> <td>    0.173</td> <td> 0.863</td> <td>   -0.223</td> <td>    0.266</td>\n",
       "</tr>\n",
       "<tr>\n",
       "  <th>Size_201 to 500 Employees</th>                         <td>    0.3654</td> <td>    0.129</td> <td>    2.842</td> <td> 0.005</td> <td>    0.113</td> <td>    0.618</td>\n",
       "</tr>\n",
       "<tr>\n",
       "  <th>Size_5001 to 10000 Employees</th>                      <td>    0.0432</td> <td>    0.146</td> <td>    0.296</td> <td> 0.767</td> <td>   -0.243</td> <td>    0.330</td>\n",
       "</tr>\n",
       "<tr>\n",
       "  <th>Size_501 to 1000 Employees</th>                        <td>    1.2928</td> <td>    0.187</td> <td>    6.928</td> <td> 0.000</td> <td>    0.926</td> <td>    1.659</td>\n",
       "</tr>\n",
       "<tr>\n",
       "  <th>Size_51 to 200 Employees</th>                          <td>   -0.0563</td> <td>    0.082</td> <td>   -0.689</td> <td> 0.491</td> <td>   -0.217</td> <td>    0.104</td>\n",
       "</tr>\n",
       "<tr>\n",
       "  <th>Type of ownership_College / University</th>            <td>    0.3197</td> <td>    0.087</td> <td>    3.656</td> <td> 0.000</td> <td>    0.148</td> <td>    0.492</td>\n",
       "</tr>\n",
       "<tr>\n",
       "  <th>Type of ownership_Company - Private</th>               <td>    0.2878</td> <td>    0.055</td> <td>    5.234</td> <td> 0.000</td> <td>    0.180</td> <td>    0.396</td>\n",
       "</tr>\n",
       "<tr>\n",
       "  <th>Type of ownership_Company - Public</th>                <td>    0.0579</td> <td>    0.153</td> <td>    0.378</td> <td> 0.706</td> <td>   -0.243</td> <td>    0.359</td>\n",
       "</tr>\n",
       "<tr>\n",
       "  <th>Type of ownership_Nonprofit Organization</th>          <td>   -0.2909</td> <td>    0.051</td> <td>   -5.688</td> <td> 0.000</td> <td>   -0.391</td> <td>   -0.190</td>\n",
       "</tr>\n",
       "<tr>\n",
       "  <th>Type of ownership_Subsidiary or Business Segment</th>  <td>    0.2324</td> <td>    0.174</td> <td>    1.334</td> <td> 0.183</td> <td>   -0.110</td> <td>    0.575</td>\n",
       "</tr>\n",
       "<tr>\n",
       "  <th>Type of ownership_Unknown</th>                         <td>    0.3903</td> <td>    0.212</td> <td>    1.837</td> <td> 0.067</td> <td>   -0.027</td> <td>    0.808</td>\n",
       "</tr>\n",
       "<tr>\n",
       "  <th>Industry_-1</th>                                       <td>   -0.1428</td> <td>    0.066</td> <td>   -2.165</td> <td> 0.031</td> <td>   -0.272</td> <td>   -0.013</td>\n",
       "</tr>\n",
       "<tr>\n",
       "  <th>Industry_Accounting</th>                               <td>   -0.0751</td> <td>    0.128</td> <td>   -0.587</td> <td> 0.557</td> <td>   -0.326</td> <td>    0.176</td>\n",
       "</tr>\n",
       "<tr>\n",
       "  <th>Industry_Advertising & Marketing</th>                  <td>    0.1824</td> <td>    0.113</td> <td>    1.616</td> <td> 0.107</td> <td>   -0.039</td> <td>    0.404</td>\n",
       "</tr>\n",
       "<tr>\n",
       "  <th>Industry_Airlines</th>                                 <td>    0.2059</td> <td>    0.122</td> <td>    1.693</td> <td> 0.091</td> <td>   -0.033</td> <td>    0.445</td>\n",
       "</tr>\n",
       "<tr>\n",
       "  <th>Industry_Banks & Credit Unions</th>                    <td>    0.0589</td> <td>    0.132</td> <td>    0.446</td> <td> 0.656</td> <td>   -0.201</td> <td>    0.319</td>\n",
       "</tr>\n",
       "<tr>\n",
       "  <th>Industry_Biotech & Pharmaceuticals</th>                <td>    0.4915</td> <td>    0.070</td> <td>    7.048</td> <td> 0.000</td> <td>    0.355</td> <td>    0.629</td>\n",
       "</tr>\n",
       "<tr>\n",
       "  <th>Industry_Colleges & Universities</th>                  <td>    0.3197</td> <td>    0.087</td> <td>    3.656</td> <td> 0.000</td> <td>    0.148</td> <td>    0.492</td>\n",
       "</tr>\n",
       "<tr>\n",
       "  <th>Industry_Computer Hardware & Software</th>             <td>    0.1301</td> <td>    0.185</td> <td>    0.702</td> <td> 0.483</td> <td>   -0.234</td> <td>    0.494</td>\n",
       "</tr>\n",
       "<tr>\n",
       "  <th>Industry_Consumer Electronics & Appliances Stores</th> <td>   -0.2851</td> <td>    0.252</td> <td>   -1.130</td> <td> 0.259</td> <td>   -0.781</td> <td>    0.210</td>\n",
       "</tr>\n",
       "<tr>\n",
       "  <th>Industry_Electrical & Electronic Manufacturing</th>    <td>   -0.3353</td> <td>    0.193</td> <td>   -1.735</td> <td> 0.083</td> <td>   -0.715</td> <td>    0.044</td>\n",
       "</tr>\n",
       "<tr>\n",
       "  <th>Industry_Energy</th>                                   <td>   -0.1064</td> <td>    0.095</td> <td>   -1.114</td> <td> 0.266</td> <td>   -0.294</td> <td>    0.081</td>\n",
       "</tr>\n",
       "<tr>\n",
       "  <th>Industry_Enterprise Software & Network Solutions</th>  <td>   -0.4532</td> <td>    0.169</td> <td>   -2.683</td> <td> 0.008</td> <td>   -0.785</td> <td>   -0.121</td>\n",
       "</tr>\n",
       "<tr>\n",
       "  <th>Industry_Food Production</th>                          <td>    0.0518</td> <td>    0.160</td> <td>    0.324</td> <td> 0.746</td> <td>   -0.262</td> <td>    0.366</td>\n",
       "</tr>\n",
       "<tr>\n",
       "  <th>Industry_Grocery Stores & Supermarkets</th>            <td>    0.2047</td> <td>    0.243</td> <td>    0.841</td> <td> 0.401</td> <td>   -0.273</td> <td>    0.683</td>\n",
       "</tr>\n",
       "<tr>\n",
       "  <th>Industry_IT Services</th>                              <td>   -0.1097</td> <td>    0.134</td> <td>   -0.816</td> <td> 0.415</td> <td>   -0.374</td> <td>    0.154</td>\n",
       "</tr>\n",
       "<tr>\n",
       "  <th>Industry_Insurance Carriers</th>                       <td>    0.5425</td> <td>    0.147</td> <td>    3.699</td> <td> 0.000</td> <td>    0.254</td> <td>    0.831</td>\n",
       "</tr>\n",
       "<tr>\n",
       "  <th>Industry_Internet</th>                                 <td>    0.4736</td> <td>    0.104</td> <td>    4.560</td> <td> 0.000</td> <td>    0.270</td> <td>    0.678</td>\n",
       "</tr>\n",
       "<tr>\n",
       "  <th>Industry_Investment Banking & Asset Management</th>    <td>   -0.9112</td> <td>    0.165</td> <td>   -5.527</td> <td> 0.000</td> <td>   -1.235</td> <td>   -0.587</td>\n",
       "</tr>\n",
       "<tr>\n",
       "  <th>Industry_Lending</th>                                  <td>    0.7485</td> <td>    0.217</td> <td>    3.457</td> <td> 0.001</td> <td>    0.323</td> <td>    1.174</td>\n",
       "</tr>\n",
       "<tr>\n",
       "  <th>Industry_Real Estate</th>                              <td>    0.9416</td> <td>    0.114</td> <td>    8.275</td> <td> 0.000</td> <td>    0.718</td> <td>    1.165</td>\n",
       "</tr>\n",
       "<tr>\n",
       "  <th>Industry_Security Services</th>                        <td>   -0.4721</td> <td>    0.225</td> <td>   -2.103</td> <td> 0.036</td> <td>   -0.913</td> <td>   -0.031</td>\n",
       "</tr>\n",
       "<tr>\n",
       "  <th>Industry_Social Assistance</th>                        <td>   -0.2909</td> <td>    0.051</td> <td>   -5.688</td> <td> 0.000</td> <td>   -0.391</td> <td>   -0.190</td>\n",
       "</tr>\n",
       "<tr>\n",
       "  <th>Industry_Staffing & Outsourcing</th>                   <td>    0.2118</td> <td>    0.136</td> <td>    1.557</td> <td> 0.120</td> <td>   -0.055</td> <td>    0.479</td>\n",
       "</tr>\n",
       "<tr>\n",
       "  <th>Industry_Telecommunications Services</th>              <td>   -0.3839</td> <td>    0.167</td> <td>   -2.300</td> <td> 0.022</td> <td>   -0.712</td> <td>   -0.056</td>\n",
       "</tr>\n",
       "<tr>\n",
       "  <th>Sector_-1</th>                                         <td>   -0.1428</td> <td>    0.066</td> <td>   -2.165</td> <td> 0.031</td> <td>   -0.272</td> <td>   -0.013</td>\n",
       "</tr>\n",
       "<tr>\n",
       "  <th>Sector_Accounting & Legal</th>                         <td>   -0.0751</td> <td>    0.128</td> <td>   -0.587</td> <td> 0.557</td> <td>   -0.326</td> <td>    0.176</td>\n",
       "</tr>\n",
       "<tr>\n",
       "  <th>Sector_Agriculture & Forestry</th>                     <td>    0.0518</td> <td>    0.160</td> <td>    0.324</td> <td> 0.746</td> <td>   -0.262</td> <td>    0.366</td>\n",
       "</tr>\n",
       "<tr>\n",
       "  <th>Sector_Biotech & Pharmaceuticals</th>                  <td>    0.4915</td> <td>    0.070</td> <td>    7.048</td> <td> 0.000</td> <td>    0.355</td> <td>    0.629</td>\n",
       "</tr>\n",
       "<tr>\n",
       "  <th>Sector_Business Services</th>                          <td>   -0.0779</td> <td>    0.070</td> <td>   -1.106</td> <td> 0.269</td> <td>   -0.216</td> <td>    0.061</td>\n",
       "</tr>\n",
       "<tr>\n",
       "  <th>Sector_Education</th>                                  <td>    0.3197</td> <td>    0.087</td> <td>    3.656</td> <td> 0.000</td> <td>    0.148</td> <td>    0.492</td>\n",
       "</tr>\n",
       "<tr>\n",
       "  <th>Sector_Finance</th>                                    <td>   -0.1038</td> <td>    0.082</td> <td>   -1.268</td> <td> 0.205</td> <td>   -0.265</td> <td>    0.057</td>\n",
       "</tr>\n",
       "<tr>\n",
       "  <th>Sector_Information Technology</th>                     <td>    0.0407</td> <td>    0.065</td> <td>    0.631</td> <td> 0.528</td> <td>   -0.086</td> <td>    0.168</td>\n",
       "</tr>\n",
       "<tr>\n",
       "  <th>Sector_Insurance</th>                                  <td>    0.5425</td> <td>    0.147</td> <td>    3.699</td> <td> 0.000</td> <td>    0.254</td> <td>    0.831</td>\n",
       "</tr>\n",
       "<tr>\n",
       "  <th>Sector_Manufacturing</th>                              <td>   -0.3353</td> <td>    0.193</td> <td>   -1.735</td> <td> 0.083</td> <td>   -0.715</td> <td>    0.044</td>\n",
       "</tr>\n",
       "<tr>\n",
       "  <th>Sector_Non-Profit</th>                                 <td>   -0.2909</td> <td>    0.051</td> <td>   -5.688</td> <td> 0.000</td> <td>   -0.391</td> <td>   -0.190</td>\n",
       "</tr>\n",
       "<tr>\n",
       "  <th>Sector_Oil, Gas, Energy & Utilities</th>               <td>   -0.1064</td> <td>    0.095</td> <td>   -1.114</td> <td> 0.266</td> <td>   -0.294</td> <td>    0.081</td>\n",
       "</tr>\n",
       "<tr>\n",
       "  <th>Sector_Real Estate</th>                                <td>    0.9416</td> <td>    0.114</td> <td>    8.275</td> <td> 0.000</td> <td>    0.718</td> <td>    1.165</td>\n",
       "</tr>\n",
       "<tr>\n",
       "  <th>Sector_Retail</th>                                     <td>   -0.0804</td> <td>    0.091</td> <td>   -0.887</td> <td> 0.375</td> <td>   -0.259</td> <td>    0.098</td>\n",
       "</tr>\n",
       "<tr>\n",
       "  <th>Sector_Telecommunications</th>                         <td>   -0.3839</td> <td>    0.167</td> <td>   -2.300</td> <td> 0.022</td> <td>   -0.712</td> <td>   -0.056</td>\n",
       "</tr>\n",
       "<tr>\n",
       "  <th>Sector_Travel & Tourism</th>                           <td>    0.2059</td> <td>    0.122</td> <td>    1.693</td> <td> 0.091</td> <td>   -0.033</td> <td>    0.445</td>\n",
       "</tr>\n",
       "<tr>\n",
       "  <th>Revenue_$1 to $2 billion (USD)</th>                    <td>    0.0392</td> <td>    0.157</td> <td>    0.249</td> <td> 0.803</td> <td>   -0.270</td> <td>    0.348</td>\n",
       "</tr>\n",
       "<tr>\n",
       "  <th>Revenue_$1 to $5 million (USD)</th>                    <td>   -0.2909</td> <td>    0.051</td> <td>   -5.688</td> <td> 0.000</td> <td>   -0.391</td> <td>   -0.190</td>\n",
       "</tr>\n",
       "<tr>\n",
       "  <th>Revenue_$10 to $25 million (USD)</th>                  <td>    1.4282</td> <td>    0.312</td> <td>    4.575</td> <td> 0.000</td> <td>    0.815</td> <td>    2.041</td>\n",
       "</tr>\n",
       "<tr>\n",
       "  <th>Revenue_$10+ billion (USD)</th>                        <td>    0.0621</td> <td>    0.196</td> <td>    0.317</td> <td> 0.752</td> <td>   -0.323</td> <td>    0.447</td>\n",
       "</tr>\n",
       "<tr>\n",
       "  <th>Revenue_$100 to $500 million (USD)</th>                <td>   -1.0316</td> <td>    0.233</td> <td>   -4.427</td> <td> 0.000</td> <td>   -1.489</td> <td>   -0.574</td>\n",
       "</tr>\n",
       "<tr>\n",
       "  <th>Revenue_$2 to $5 billion (USD)</th>                    <td>    0.6591</td> <td>    0.208</td> <td>    3.168</td> <td> 0.002</td> <td>    0.250</td> <td>    1.068</td>\n",
       "</tr>\n",
       "<tr>\n",
       "  <th>Revenue_$25 to $50 million (USD)</th>                  <td>   -0.9258</td> <td>    0.132</td> <td>   -7.004</td> <td> 0.000</td> <td>   -1.185</td> <td>   -0.666</td>\n",
       "</tr>\n",
       "<tr>\n",
       "  <th>Revenue_$5 to $10 billion (USD)</th>                   <td>    0.9757</td> <td>    0.243</td> <td>    4.019</td> <td> 0.000</td> <td>    0.499</td> <td>    1.453</td>\n",
       "</tr>\n",
       "<tr>\n",
       "  <th>Revenue_$5 to $10 million (USD)</th>                   <td>    2.2516</td> <td>    0.384</td> <td>    5.868</td> <td> 0.000</td> <td>    1.498</td> <td>    3.005</td>\n",
       "</tr>\n",
       "<tr>\n",
       "  <th>Revenue_$50 to $100 million (USD)</th>                 <td>   -0.9348</td> <td>    0.227</td> <td>   -4.117</td> <td> 0.000</td> <td>   -1.381</td> <td>   -0.489</td>\n",
       "</tr>\n",
       "<tr>\n",
       "  <th>Revenue_$500 million to $1 billion (USD)</th>          <td>   -0.6446</td> <td>    0.325</td> <td>   -1.981</td> <td> 0.048</td> <td>   -1.284</td> <td>   -0.005</td>\n",
       "</tr>\n",
       "<tr>\n",
       "  <th>Revenue_Less than $1 million (USD)</th>                <td>    0.4658</td> <td>    0.210</td> <td>    2.222</td> <td> 0.027</td> <td>    0.054</td> <td>    0.878</td>\n",
       "</tr>\n",
       "<tr>\n",
       "  <th>Revenue_Unknown / Non-Applicable</th>                  <td>   -1.0568</td> <td>    0.139</td> <td>   -7.611</td> <td> 0.000</td> <td>   -1.330</td> <td>   -0.784</td>\n",
       "</tr>\n",
       "<tr>\n",
       "  <th>job_simp_analyst</th>                                  <td>   -0.1956</td> <td>    0.061</td> <td>   -3.201</td> <td> 0.001</td> <td>   -0.316</td> <td>   -0.076</td>\n",
       "</tr>\n",
       "<tr>\n",
       "  <th>job_simp_data engineer</th>                            <td>    0.1883</td> <td>    0.056</td> <td>    3.387</td> <td> 0.001</td> <td>    0.079</td> <td>    0.297</td>\n",
       "</tr>\n",
       "<tr>\n",
       "  <th>job_simp_data scientist</th>                           <td>    0.0946</td> <td>    0.061</td> <td>    1.553</td> <td> 0.121</td> <td>   -0.025</td> <td>    0.214</td>\n",
       "</tr>\n",
       "<tr>\n",
       "  <th>job_simp_director</th>                                 <td>    0.1884</td> <td>    0.179</td> <td>    1.050</td> <td> 0.294</td> <td>   -0.164</td> <td>    0.541</td>\n",
       "</tr>\n",
       "<tr>\n",
       "  <th>job_simp_manager</th>                                  <td>    0.2413</td> <td>    0.101</td> <td>    2.381</td> <td> 0.018</td> <td>    0.042</td> <td>    0.440</td>\n",
       "</tr>\n",
       "<tr>\n",
       "  <th>job_simp_mle</th>                                      <td>    0.1607</td> <td>    0.126</td> <td>    1.270</td> <td> 0.205</td> <td>   -0.088</td> <td>    0.409</td>\n",
       "</tr>\n",
       "<tr>\n",
       "  <th>job_simp_na</th>                                       <td>    0.3197</td> <td>    0.069</td> <td>    4.641</td> <td> 0.000</td> <td>    0.184</td> <td>    0.455</td>\n",
       "</tr>\n",
       "<tr>\n",
       "  <th>seniority_jr</th>                                      <td>   -1.9318</td> <td>    0.350</td> <td>   -5.514</td> <td> 0.000</td> <td>   -2.620</td> <td>   -1.244</td>\n",
       "</tr>\n",
       "<tr>\n",
       "  <th>seniority_na</th>                                      <td>    1.5003</td> <td>    0.129</td> <td>   11.671</td> <td> 0.000</td> <td>    1.248</td> <td>    1.753</td>\n",
       "</tr>\n",
       "<tr>\n",
       "  <th>seniority_senior</th>                                  <td>    1.4287</td> <td>    0.144</td> <td>    9.950</td> <td> 0.000</td> <td>    1.147</td> <td>    1.711</td>\n",
       "</tr>\n",
       "</table>\n",
       "<table class=\"simpletable\">\n",
       "<tr>\n",
       "  <th>Omnibus:</th>       <td>545.499</td> <th>  Durbin-Watson:     </th> <td>   2.132</td> \n",
       "</tr>\n",
       "<tr>\n",
       "  <th>Prob(Omnibus):</th> <td> 0.000</td>  <th>  Jarque-Bera (JB):  </th> <td>97336.027</td>\n",
       "</tr>\n",
       "<tr>\n",
       "  <th>Skew:</th>          <td> 3.205</td>  <th>  Prob(JB):          </th> <td>    0.00</td> \n",
       "</tr>\n",
       "<tr>\n",
       "  <th>Kurtosis:</th>      <td>64.500</td>  <th>  Cond. No.          </th> <td>2.56e+16</td> \n",
       "</tr>\n",
       "</table><br/><br/>Warnings:<br/>[1] Standard Errors assume that the covariance matrix of the errors is correctly specified.<br/>[2] The smallest eigenvalue is 9.33e-24. This might indicate that there are<br/>strong multicollinearity problems or that the design matrix is singular."
      ],
      "text/plain": [
       "<class 'statsmodels.iolib.summary.Summary'>\n",
       "\"\"\"\n",
       "                            OLS Regression Results                            \n",
       "==============================================================================\n",
       "Dep. Variable:                      y   R-squared:                       0.908\n",
       "Model:                            OLS   Adj. R-squared:                  0.896\n",
       "Method:                 Least Squares   F-statistic:                     80.99\n",
       "Date:                Thu, 03 Dec 2020   Prob (F-statistic):          3.84e-240\n",
       "Time:                        04:31:34   Log-Likelihood:                 261.23\n",
       "No. Observations:                 611   AIC:                            -388.5\n",
       "Df Residuals:                     544   BIC:                            -92.64\n",
       "Df Model:                          66                                         \n",
       "Covariance Type:            nonrobust                                         \n",
       "=====================================================================================================================\n",
       "                                                        coef    std err          t      P>|t|      [0.025      0.975]\n",
       "---------------------------------------------------------------------------------------------------------------------\n",
       "const                                                 0.9972      0.122      8.199      0.000       0.758       1.236\n",
       "Founded                                               0.0007   6.93e-05     10.487      0.000       0.001       0.001\n",
       "Age                                                   0.0004      0.002      0.230      0.818      -0.003       0.004\n",
       "python_yn                                            -0.0075      0.049     -0.154      0.877      -0.104       0.089\n",
       "sql_yn                                               -0.0332      0.058     -0.570      0.569      -0.148       0.081\n",
       "tableau_yn                                            0.0619      0.059      1.054      0.292      -0.053       0.177\n",
       "spark_yn                                             -0.2668      0.070     -3.797      0.000      -0.405      -0.129\n",
       "aws_yn                                               -0.0137      0.035     -0.391      0.696      -0.083       0.055\n",
       "excel_yn                                             -0.0948      0.047     -2.001      0.046      -0.188      -0.002\n",
       "desc_len                                          -1.639e-05   3.54e-05     -0.463      0.643   -8.59e-05    5.31e-05\n",
       "Location_Cyberjaya                                    0.9187      0.114      8.068      0.000       0.695       1.142\n",
       "Location_Klang                                        0.8451      0.215      3.923      0.000       0.422       1.268\n",
       "Location_Kuala Lumpur                                 0.2846      0.076      3.762      0.000       0.136       0.433\n",
       "Location_Petaling Jaya                                0.0189      0.093      0.202      0.840      -0.165       0.202\n",
       "Location_Putrajaya                                   -0.1952      0.356     -0.548      0.584      -0.895       0.505\n",
       "Location_Shah Alam                                   -0.5507      0.178     -3.095      0.002      -0.900      -0.201\n",
       "Location_Subang Jaya                                 -0.3241      0.164     -1.974      0.049      -0.647      -0.002\n",
       "Size_1 to 50 Employees                                0.0973      0.135      0.723      0.470      -0.167       0.362\n",
       "Size_10000+ Employees                                -0.7668      0.270     -2.837      0.005      -1.298      -0.236\n",
       "Size_1001 to 5000 Employees                           0.0216      0.125      0.173      0.863      -0.223       0.266\n",
       "Size_201 to 500 Employees                             0.3654      0.129      2.842      0.005       0.113       0.618\n",
       "Size_5001 to 10000 Employees                          0.0432      0.146      0.296      0.767      -0.243       0.330\n",
       "Size_501 to 1000 Employees                            1.2928      0.187      6.928      0.000       0.926       1.659\n",
       "Size_51 to 200 Employees                             -0.0563      0.082     -0.689      0.491      -0.217       0.104\n",
       "Type of ownership_College / University                0.3197      0.087      3.656      0.000       0.148       0.492\n",
       "Type of ownership_Company - Private                   0.2878      0.055      5.234      0.000       0.180       0.396\n",
       "Type of ownership_Company - Public                    0.0579      0.153      0.378      0.706      -0.243       0.359\n",
       "Type of ownership_Nonprofit Organization             -0.2909      0.051     -5.688      0.000      -0.391      -0.190\n",
       "Type of ownership_Subsidiary or Business Segment      0.2324      0.174      1.334      0.183      -0.110       0.575\n",
       "Type of ownership_Unknown                             0.3903      0.212      1.837      0.067      -0.027       0.808\n",
       "Industry_-1                                          -0.1428      0.066     -2.165      0.031      -0.272      -0.013\n",
       "Industry_Accounting                                  -0.0751      0.128     -0.587      0.557      -0.326       0.176\n",
       "Industry_Advertising & Marketing                      0.1824      0.113      1.616      0.107      -0.039       0.404\n",
       "Industry_Airlines                                     0.2059      0.122      1.693      0.091      -0.033       0.445\n",
       "Industry_Banks & Credit Unions                        0.0589      0.132      0.446      0.656      -0.201       0.319\n",
       "Industry_Biotech & Pharmaceuticals                    0.4915      0.070      7.048      0.000       0.355       0.629\n",
       "Industry_Colleges & Universities                      0.3197      0.087      3.656      0.000       0.148       0.492\n",
       "Industry_Computer Hardware & Software                 0.1301      0.185      0.702      0.483      -0.234       0.494\n",
       "Industry_Consumer Electronics & Appliances Stores    -0.2851      0.252     -1.130      0.259      -0.781       0.210\n",
       "Industry_Electrical & Electronic Manufacturing       -0.3353      0.193     -1.735      0.083      -0.715       0.044\n",
       "Industry_Energy                                      -0.1064      0.095     -1.114      0.266      -0.294       0.081\n",
       "Industry_Enterprise Software & Network Solutions     -0.4532      0.169     -2.683      0.008      -0.785      -0.121\n",
       "Industry_Food Production                              0.0518      0.160      0.324      0.746      -0.262       0.366\n",
       "Industry_Grocery Stores & Supermarkets                0.2047      0.243      0.841      0.401      -0.273       0.683\n",
       "Industry_IT Services                                 -0.1097      0.134     -0.816      0.415      -0.374       0.154\n",
       "Industry_Insurance Carriers                           0.5425      0.147      3.699      0.000       0.254       0.831\n",
       "Industry_Internet                                     0.4736      0.104      4.560      0.000       0.270       0.678\n",
       "Industry_Investment Banking & Asset Management       -0.9112      0.165     -5.527      0.000      -1.235      -0.587\n",
       "Industry_Lending                                      0.7485      0.217      3.457      0.001       0.323       1.174\n",
       "Industry_Real Estate                                  0.9416      0.114      8.275      0.000       0.718       1.165\n",
       "Industry_Security Services                           -0.4721      0.225     -2.103      0.036      -0.913      -0.031\n",
       "Industry_Social Assistance                           -0.2909      0.051     -5.688      0.000      -0.391      -0.190\n",
       "Industry_Staffing & Outsourcing                       0.2118      0.136      1.557      0.120      -0.055       0.479\n",
       "Industry_Telecommunications Services                 -0.3839      0.167     -2.300      0.022      -0.712      -0.056\n",
       "Sector_-1                                            -0.1428      0.066     -2.165      0.031      -0.272      -0.013\n",
       "Sector_Accounting & Legal                            -0.0751      0.128     -0.587      0.557      -0.326       0.176\n",
       "Sector_Agriculture & Forestry                         0.0518      0.160      0.324      0.746      -0.262       0.366\n",
       "Sector_Biotech & Pharmaceuticals                      0.4915      0.070      7.048      0.000       0.355       0.629\n",
       "Sector_Business Services                             -0.0779      0.070     -1.106      0.269      -0.216       0.061\n",
       "Sector_Education                                      0.3197      0.087      3.656      0.000       0.148       0.492\n",
       "Sector_Finance                                       -0.1038      0.082     -1.268      0.205      -0.265       0.057\n",
       "Sector_Information Technology                         0.0407      0.065      0.631      0.528      -0.086       0.168\n",
       "Sector_Insurance                                      0.5425      0.147      3.699      0.000       0.254       0.831\n",
       "Sector_Manufacturing                                 -0.3353      0.193     -1.735      0.083      -0.715       0.044\n",
       "Sector_Non-Profit                                    -0.2909      0.051     -5.688      0.000      -0.391      -0.190\n",
       "Sector_Oil, Gas, Energy & Utilities                  -0.1064      0.095     -1.114      0.266      -0.294       0.081\n",
       "Sector_Real Estate                                    0.9416      0.114      8.275      0.000       0.718       1.165\n",
       "Sector_Retail                                        -0.0804      0.091     -0.887      0.375      -0.259       0.098\n",
       "Sector_Telecommunications                            -0.3839      0.167     -2.300      0.022      -0.712      -0.056\n",
       "Sector_Travel & Tourism                               0.2059      0.122      1.693      0.091      -0.033       0.445\n",
       "Revenue_$1 to $2 billion (USD)                        0.0392      0.157      0.249      0.803      -0.270       0.348\n",
       "Revenue_$1 to $5 million (USD)                       -0.2909      0.051     -5.688      0.000      -0.391      -0.190\n",
       "Revenue_$10 to $25 million (USD)                      1.4282      0.312      4.575      0.000       0.815       2.041\n",
       "Revenue_$10+ billion (USD)                            0.0621      0.196      0.317      0.752      -0.323       0.447\n",
       "Revenue_$100 to $500 million (USD)                   -1.0316      0.233     -4.427      0.000      -1.489      -0.574\n",
       "Revenue_$2 to $5 billion (USD)                        0.6591      0.208      3.168      0.002       0.250       1.068\n",
       "Revenue_$25 to $50 million (USD)                     -0.9258      0.132     -7.004      0.000      -1.185      -0.666\n",
       "Revenue_$5 to $10 billion (USD)                       0.9757      0.243      4.019      0.000       0.499       1.453\n",
       "Revenue_$5 to $10 million (USD)                       2.2516      0.384      5.868      0.000       1.498       3.005\n",
       "Revenue_$50 to $100 million (USD)                    -0.9348      0.227     -4.117      0.000      -1.381      -0.489\n",
       "Revenue_$500 million to $1 billion (USD)             -0.6446      0.325     -1.981      0.048      -1.284      -0.005\n",
       "Revenue_Less than $1 million (USD)                    0.4658      0.210      2.222      0.027       0.054       0.878\n",
       "Revenue_Unknown / Non-Applicable                     -1.0568      0.139     -7.611      0.000      -1.330      -0.784\n",
       "job_simp_analyst                                     -0.1956      0.061     -3.201      0.001      -0.316      -0.076\n",
       "job_simp_data engineer                                0.1883      0.056      3.387      0.001       0.079       0.297\n",
       "job_simp_data scientist                               0.0946      0.061      1.553      0.121      -0.025       0.214\n",
       "job_simp_director                                     0.1884      0.179      1.050      0.294      -0.164       0.541\n",
       "job_simp_manager                                      0.2413      0.101      2.381      0.018       0.042       0.440\n",
       "job_simp_mle                                          0.1607      0.126      1.270      0.205      -0.088       0.409\n",
       "job_simp_na                                           0.3197      0.069      4.641      0.000       0.184       0.455\n",
       "seniority_jr                                         -1.9318      0.350     -5.514      0.000      -2.620      -1.244\n",
       "seniority_na                                          1.5003      0.129     11.671      0.000       1.248       1.753\n",
       "seniority_senior                                      1.4287      0.144      9.950      0.000       1.147       1.711\n",
       "==============================================================================\n",
       "Omnibus:                      545.499   Durbin-Watson:                   2.132\n",
       "Prob(Omnibus):                  0.000   Jarque-Bera (JB):            97336.027\n",
       "Skew:                           3.205   Prob(JB):                         0.00\n",
       "Kurtosis:                      64.500   Cond. No.                     2.56e+16\n",
       "==============================================================================\n",
       "\n",
       "Warnings:\n",
       "[1] Standard Errors assume that the covariance matrix of the errors is correctly specified.\n",
       "[2] The smallest eigenvalue is 9.33e-24. This might indicate that there are\n",
       "strong multicollinearity problems or that the design matrix is singular.\n",
       "\"\"\""
      ]
     },
     "execution_count": 8,
     "metadata": {},
     "output_type": "execute_result"
    }
   ],
   "source": [
    "# multiple linear regression\n",
    "import statsmodels.api as sm\n",
    "\n",
    "X_sm = X = sm.add_constant(X)\n",
    "model = sm.OLS(y,X_sm)\n",
    "model.fit().summary()"
   ]
  },
  {
   "cell_type": "code",
   "execution_count": 9,
   "metadata": {},
   "outputs": [],
   "source": [
    "from sklearn.linear_model import LinearRegression, Lasso\n",
    "from sklearn.model_selection import cross_val_score"
   ]
  },
  {
   "cell_type": "code",
   "execution_count": 10,
   "metadata": {},
   "outputs": [
    {
     "data": {
      "text/plain": [
       "LinearRegression(copy_X=True, fit_intercept=True, n_jobs=None, normalize=False)"
      ]
     },
     "execution_count": 10,
     "metadata": {},
     "output_type": "execute_result"
    }
   ],
   "source": [
    "lm = LinearRegression()\n",
    "lm.fit(X_train, y_train)"
   ]
  },
  {
   "cell_type": "code",
   "execution_count": 11,
   "metadata": {},
   "outputs": [
    {
     "data": {
      "text/plain": [
       "-416832.4049887652"
      ]
     },
     "execution_count": 11,
     "metadata": {},
     "output_type": "execute_result"
    }
   ],
   "source": [
    "np.mean(cross_val_score(lm,X_train,y_train, scoring = 'neg_mean_absolute_error', cv= 3))"
   ]
  },
  {
   "cell_type": "code",
   "execution_count": 12,
   "metadata": {},
   "outputs": [
    {
     "name": "stderr",
     "output_type": "stream",
     "text": [
      "C:\\Users\\khairie\\Anaconda3\\lib\\site-packages\\sklearn\\linear_model\\coordinate_descent.py:475: ConvergenceWarning: Objective did not converge. You might want to increase the number of iterations. Duality gap: 0.033237205854423024, tolerance: 0.008384307692307693\n",
      "  positive)\n"
     ]
    },
    {
     "data": {
      "text/plain": [
       "-0.08170227671659734"
      ]
     },
     "execution_count": 12,
     "metadata": {},
     "output_type": "execute_result"
    }
   ],
   "source": [
    "# lasso regression \n",
    "lm_l = Lasso(alpha=.001)\n",
    "lm_l.fit(X_train,y_train)\n",
    "np.mean(cross_val_score(lm_l,X_train,y_train, scoring = 'neg_mean_absolute_error', cv= 3))\n"
   ]
  },
  {
   "cell_type": "code",
   "execution_count": 13,
   "metadata": {},
   "outputs": [
    {
     "name": "stderr",
     "output_type": "stream",
     "text": [
      "C:\\Users\\khairie\\Anaconda3\\lib\\site-packages\\sklearn\\linear_model\\coordinate_descent.py:475: ConvergenceWarning: Objective did not converge. You might want to increase the number of iterations. Duality gap: 1.8396516347219565, tolerance: 0.00974276923076923\n",
      "  positive)\n",
      "C:\\Users\\khairie\\Anaconda3\\lib\\site-packages\\sklearn\\linear_model\\coordinate_descent.py:475: ConvergenceWarning: Objective did not converge. You might want to increase the number of iterations. Duality gap: 1.9803683790787106, tolerance: 0.008384307692307693\n",
      "  positive)\n",
      "C:\\Users\\khairie\\Anaconda3\\lib\\site-packages\\sklearn\\linear_model\\coordinate_descent.py:475: ConvergenceWarning: Objective did not converge. You might want to increase the number of iterations. Duality gap: 0.8713041169142579, tolerance: 0.008372159509202453\n",
      "  positive)\n",
      "C:\\Users\\khairie\\Anaconda3\\lib\\site-packages\\sklearn\\linear_model\\coordinate_descent.py:475: ConvergenceWarning: Objective did not converge. You might want to increase the number of iterations. Duality gap: 2.2984590412712733, tolerance: 0.00974276923076923\n",
      "  positive)\n",
      "C:\\Users\\khairie\\Anaconda3\\lib\\site-packages\\sklearn\\linear_model\\coordinate_descent.py:475: ConvergenceWarning: Objective did not converge. You might want to increase the number of iterations. Duality gap: 2.310690386131241, tolerance: 0.008384307692307693\n",
      "  positive)\n",
      "C:\\Users\\khairie\\Anaconda3\\lib\\site-packages\\sklearn\\linear_model\\coordinate_descent.py:475: ConvergenceWarning: Objective did not converge. You might want to increase the number of iterations. Duality gap: 1.459981521472026, tolerance: 0.008372159509202453\n",
      "  positive)\n",
      "C:\\Users\\khairie\\Anaconda3\\lib\\site-packages\\sklearn\\linear_model\\coordinate_descent.py:475: ConvergenceWarning: Objective did not converge. You might want to increase the number of iterations. Duality gap: 2.773124225840161, tolerance: 0.00974276923076923\n",
      "  positive)\n",
      "C:\\Users\\khairie\\Anaconda3\\lib\\site-packages\\sklearn\\linear_model\\coordinate_descent.py:475: ConvergenceWarning: Objective did not converge. You might want to increase the number of iterations. Duality gap: 1.7991443223780705, tolerance: 0.008384307692307693\n",
      "  positive)\n",
      "C:\\Users\\khairie\\Anaconda3\\lib\\site-packages\\sklearn\\linear_model\\coordinate_descent.py:475: ConvergenceWarning: Objective did not converge. You might want to increase the number of iterations. Duality gap: 1.9363660802159044, tolerance: 0.008372159509202453\n",
      "  positive)\n",
      "C:\\Users\\khairie\\Anaconda3\\lib\\site-packages\\sklearn\\linear_model\\coordinate_descent.py:475: ConvergenceWarning: Objective did not converge. You might want to increase the number of iterations. Duality gap: 1.3721644986758255, tolerance: 0.00974276923076923\n",
      "  positive)\n",
      "C:\\Users\\khairie\\Anaconda3\\lib\\site-packages\\sklearn\\linear_model\\coordinate_descent.py:475: ConvergenceWarning: Objective did not converge. You might want to increase the number of iterations. Duality gap: 0.24205455965863765, tolerance: 0.008384307692307693\n",
      "  positive)\n",
      "C:\\Users\\khairie\\Anaconda3\\lib\\site-packages\\sklearn\\linear_model\\coordinate_descent.py:475: ConvergenceWarning: Objective did not converge. You might want to increase the number of iterations. Duality gap: 2.089592750571525, tolerance: 0.008372159509202453\n",
      "  positive)\n",
      "C:\\Users\\khairie\\Anaconda3\\lib\\site-packages\\sklearn\\linear_model\\coordinate_descent.py:475: ConvergenceWarning: Objective did not converge. You might want to increase the number of iterations. Duality gap: 0.0801418340160116, tolerance: 0.00974276923076923\n",
      "  positive)\n",
      "C:\\Users\\khairie\\Anaconda3\\lib\\site-packages\\sklearn\\linear_model\\coordinate_descent.py:475: ConvergenceWarning: Objective did not converge. You might want to increase the number of iterations. Duality gap: 0.011757910135732352, tolerance: 0.008384307692307693\n",
      "  positive)\n",
      "C:\\Users\\khairie\\Anaconda3\\lib\\site-packages\\sklearn\\linear_model\\coordinate_descent.py:475: ConvergenceWarning: Objective did not converge. You might want to increase the number of iterations. Duality gap: 0.3014510901788241, tolerance: 0.008372159509202453\n",
      "  positive)\n",
      "C:\\Users\\khairie\\Anaconda3\\lib\\site-packages\\sklearn\\linear_model\\coordinate_descent.py:475: ConvergenceWarning: Objective did not converge. You might want to increase the number of iterations. Duality gap: 0.12790190761208065, tolerance: 0.008372159509202453\n",
      "  positive)\n",
      "C:\\Users\\khairie\\Anaconda3\\lib\\site-packages\\sklearn\\linear_model\\coordinate_descent.py:475: ConvergenceWarning: Objective did not converge. You might want to increase the number of iterations. Duality gap: 0.062363215981954934, tolerance: 0.00974276923076923\n",
      "  positive)\n",
      "C:\\Users\\khairie\\Anaconda3\\lib\\site-packages\\sklearn\\linear_model\\coordinate_descent.py:475: ConvergenceWarning: Objective did not converge. You might want to increase the number of iterations. Duality gap: 0.033237205854423024, tolerance: 0.008384307692307693\n",
      "  positive)\n",
      "C:\\Users\\khairie\\Anaconda3\\lib\\site-packages\\sklearn\\linear_model\\coordinate_descent.py:475: ConvergenceWarning: Objective did not converge. You might want to increase the number of iterations. Duality gap: 0.04711028577135146, tolerance: 0.008384307692307693\n",
      "  positive)\n",
      "C:\\Users\\khairie\\Anaconda3\\lib\\site-packages\\sklearn\\linear_model\\coordinate_descent.py:475: ConvergenceWarning: Objective did not converge. You might want to increase the number of iterations. Duality gap: 0.04844337570368218, tolerance: 0.008384307692307693\n",
      "  positive)\n",
      "C:\\Users\\khairie\\Anaconda3\\lib\\site-packages\\sklearn\\linear_model\\coordinate_descent.py:475: ConvergenceWarning: Objective did not converge. You might want to increase the number of iterations. Duality gap: 0.045249819761382426, tolerance: 0.008384307692307693\n",
      "  positive)\n",
      "C:\\Users\\khairie\\Anaconda3\\lib\\site-packages\\sklearn\\linear_model\\coordinate_descent.py:475: ConvergenceWarning: Objective did not converge. You might want to increase the number of iterations. Duality gap: 0.061645286724247406, tolerance: 0.008384307692307693\n",
      "  positive)\n",
      "C:\\Users\\khairie\\Anaconda3\\lib\\site-packages\\sklearn\\linear_model\\coordinate_descent.py:475: ConvergenceWarning: Objective did not converge. You might want to increase the number of iterations. Duality gap: 0.03161024913890742, tolerance: 0.008384307692307693\n",
      "  positive)\n"
     ]
    },
    {
     "data": {
      "text/plain": [
       "[<matplotlib.lines.Line2D at 0x1a9f18e79c8>]"
      ]
     },
     "execution_count": 13,
     "metadata": {},
     "output_type": "execute_result"
    },
    {
     "data": {
      "image/png": "[encoded data removed]",
      "text/plain": [
       "<Figure size 432x288 with 1 Axes>"
      ]
     },
     "metadata": {
      "needs_background": "light"
     },
     "output_type": "display_data"
    }
   ],
   "source": [
    "alpha = []\n",
    "error = []\n",
    "\n",
    "for i in range(1,100):\n",
    "    alpha.append(i/10000)\n",
    "    lml = Lasso(alpha=(i/10000))\n",
    "    error.append(np.mean(cross_val_score(lml,X_train,y_train, scoring = 'neg_mean_absolute_error', cv= 3)))\n",
    "    \n",
    "plt.plot(alpha,error)"
   ]
  },
  {
   "cell_type": "code",
   "execution_count": 14,
   "metadata": {},
   "outputs": [
    {
     "data": {
      "text/html": [
       "<div>\n",
       "<style scoped>\n",
       "    .dataframe tbody tr th:only-of-type {\n",
       "        vertical-align: middle;\n",
       "    }\n",
       "\n",
       "    .dataframe tbody tr th {\n",
       "        vertical-align: top;\n",
       "    }\n",
       "\n",
       "    .dataframe thead th {\n",
       "        text-align: right;\n",
       "    }\n",
       "</style>\n",
       "<table border=\"1\" class=\"dataframe\">\n",
       "  <thead>\n",
       "    <tr style=\"text-align: right;\">\n",
       "      <th></th>\n",
       "      <th>alpha</th>\n",
       "      <th>error</th>\n",
       "    </tr>\n",
       "  </thead>\n",
       "  <tbody>\n",
       "    <tr>\n",
       "      <td>9</td>\n",
       "      <td>0.001</td>\n",
       "      <td>-0.081702</td>\n",
       "    </tr>\n",
       "  </tbody>\n",
       "</table>\n",
       "</div>"
      ],
      "text/plain": [
       "   alpha     error\n",
       "9  0.001 -0.081702"
      ]
     },
     "execution_count": 14,
     "metadata": {},
     "output_type": "execute_result"
    }
   ],
   "source": [
    "err = tuple(zip(alpha,error))\n",
    "df_err = pd.DataFrame(err, columns = ['alpha','error'])\n",
    "df_err[df_err.error == max(df_err.error)]"
   ]
  },
  {
   "cell_type": "code",
   "execution_count": 15,
   "metadata": {},
   "outputs": [],
   "source": [
    "# random forest \n",
    "from sklearn.ensemble import RandomForestRegressor\n",
    "rf = RandomForestRegressor()"
   ]
  },
  {
   "cell_type": "code",
   "execution_count": 16,
   "metadata": {},
   "outputs": [
    {
     "name": "stderr",
     "output_type": "stream",
     "text": [
      "C:\\Users\\khairie\\Anaconda3\\lib\\site-packages\\sklearn\\ensemble\\forest.py:245: FutureWarning: The default value of n_estimators will change from 10 in version 0.20 to 100 in 0.22.\n",
      "  \"10 in version 0.20 to 100 in 0.22.\", FutureWarning)\n",
      "C:\\Users\\khairie\\Anaconda3\\lib\\site-packages\\sklearn\\ensemble\\forest.py:245: FutureWarning: The default value of n_estimators will change from 10 in version 0.20 to 100 in 0.22.\n",
      "  \"10 in version 0.20 to 100 in 0.22.\", FutureWarning)\n",
      "C:\\Users\\khairie\\Anaconda3\\lib\\site-packages\\sklearn\\ensemble\\forest.py:245: FutureWarning: The default value of n_estimators will change from 10 in version 0.20 to 100 in 0.22.\n",
      "  \"10 in version 0.20 to 100 in 0.22.\", FutureWarning)\n"
     ]
    },
    {
     "data": {
      "text/plain": [
       "-0.05545759802065231"
      ]
     },
     "execution_count": 16,
     "metadata": {},
     "output_type": "execute_result"
    }
   ],
   "source": [
    "np.mean(cross_val_score(rf,X_train,y_train,scoring = 'neg_mean_absolute_error', cv= 3))"
   ]
  },
  {
   "cell_type": "code",
   "execution_count": 17,
   "metadata": {},
   "outputs": [],
   "source": [
    "# tune models GridsearchCV\n",
    "from sklearn.model_selection import GridSearchCV\n",
    "parameters = {'n_estimators':range(10,300,10), 'criterion':('mse','mae'), 'max_features':('auto','sqrt','log2')}\n",
    "\n",
    "gs = GridSearchCV(rf,parameters,scoring='neg_mean_absolute_error',cv=3)"
   ]
  },
  {
   "cell_type": "code",
   "execution_count": 18,
   "metadata": {},
   "outputs": [
    {
     "data": {
      "text/plain": [
       "GridSearchCV(cv=3, error_score='raise-deprecating',\n",
       "             estimator=RandomForestRegressor(bootstrap=True, criterion='mse',\n",
       "                                             max_depth=None,\n",
       "                                             max_features='auto',\n",
       "                                             max_leaf_nodes=None,\n",
       "                                             min_impurity_decrease=0.0,\n",
       "                                             min_impurity_split=None,\n",
       "                                             min_samples_leaf=1,\n",
       "                                             min_samples_split=2,\n",
       "                                             min_weight_fraction_leaf=0.0,\n",
       "                                             n_estimators='warn', n_jobs=None,\n",
       "                                             oob_score=False, random_state=None,\n",
       "                                             verbose=0, warm_start=False),\n",
       "             iid='warn', n_jobs=None,\n",
       "             param_grid={'criterion': ('mse', 'mae'),\n",
       "                         'max_features': ('auto', 'sqrt', 'log2'),\n",
       "                         'n_estimators': range(10, 300, 10)},\n",
       "             pre_dispatch='2*n_jobs', refit=True, return_train_score=False,\n",
       "             scoring='neg_mean_absolute_error', verbose=0)"
      ]
     },
     "execution_count": 18,
     "metadata": {},
     "output_type": "execute_result"
    }
   ],
   "source": [
    "gs.fit(X_train,y_train)"
   ]
  },
  {
   "cell_type": "code",
   "execution_count": 19,
   "metadata": {},
   "outputs": [
    {
     "data": {
      "text/plain": [
       "-0.05225995316159436"
      ]
     },
     "execution_count": 19,
     "metadata": {},
     "output_type": "execute_result"
    }
   ],
   "source": [
    "gs.best_score_"
   ]
  },
  {
   "cell_type": "code",
   "execution_count": 20,
   "metadata": {},
   "outputs": [
    {
     "data": {
      "text/plain": [
       "RandomForestRegressor(bootstrap=True, criterion='mae', max_depth=None,\n",
       "                      max_features='sqrt', max_leaf_nodes=None,\n",
       "                      min_impurity_decrease=0.0, min_impurity_split=None,\n",
       "                      min_samples_leaf=1, min_samples_split=2,\n",
       "                      min_weight_fraction_leaf=0.0, n_estimators=70,\n",
       "                      n_jobs=None, oob_score=False, random_state=None,\n",
       "                      verbose=0, warm_start=False)"
      ]
     },
     "execution_count": 20,
     "metadata": {},
     "output_type": "execute_result"
    }
   ],
   "source": [
    "gs.best_estimator_"
   ]
  },
  {
   "cell_type": "code",
   "execution_count": 21,
   "metadata": {},
   "outputs": [],
   "source": [
    "# test ensembles \n",
    "tpred_lm = lm.predict(X_test)\n",
    "tpred_lml = lm_l.predict(X_test)\n",
    "tpred_rf = gs.best_estimator_.predict(X_test)"
   ]
  },
  {
   "cell_type": "code",
   "execution_count": 22,
   "metadata": {},
   "outputs": [
    {
     "data": {
      "text/plain": [
       "0.18700803627329826"
      ]
     },
     "execution_count": 22,
     "metadata": {},
     "output_type": "execute_result"
    }
   ],
   "source": [
    "from sklearn.metrics import mean_absolute_error\n",
    "mean_absolute_error(y_test,tpred_lm)"
   ]
  },
  {
   "cell_type": "code",
   "execution_count": 23,
   "metadata": {},
   "outputs": [
    {
     "data": {
      "text/plain": [
       "0.12146005072191665"
      ]
     },
     "execution_count": 23,
     "metadata": {},
     "output_type": "execute_result"
    }
   ],
   "source": [
    "mean_absolute_error(y_test,tpred_lml)"
   ]
  },
  {
   "cell_type": "code",
   "execution_count": 24,
   "metadata": {},
   "outputs": [
    {
     "data": {
      "text/plain": [
       "0.08481997677119814"
      ]
     },
     "execution_count": 24,
     "metadata": {},
     "output_type": "execute_result"
    }
   ],
   "source": [
    "mean_absolute_error(y_test,tpred_rf)"
   ]
  },
  {
   "cell_type": "code",
   "execution_count": 25,
   "metadata": {},
   "outputs": [
    {
     "data": {
      "text/plain": [
       "0.12878083313246108"
      ]
     },
     "execution_count": 25,
     "metadata": {},
     "output_type": "execute_result"
    }
   ],
   "source": [
    "mean_absolute_error(y_test,(tpred_lm+tpred_rf)/2)"
   ]
  },
  {
   "cell_type": "code",
   "execution_count": 26,
   "metadata": {},
   "outputs": [],
   "source": [
    "import pickle\n",
    "pickl = {'model': gs.best_estimator_}\n",
    "pickle.dump( pickl, open( 'model_file' + \".p\", \"wb\" ) )"
   ]
  },
  {
   "cell_type": "code",
   "execution_count": 27,
   "metadata": {},
   "outputs": [],
   "source": [
    "file_name = \"model_file.p\"\n",
    "with open(file_name, 'rb') as pickled:\n",
    "    data = pickle.load(pickled)\n",
    "    model = data['model']\n"
   ]
  },
  {
   "cell_type": "code",
   "execution_count": 28,
   "metadata": {},
   "outputs": [
    {
     "data": {
      "text/plain": [
       "3.9000000000000026"
      ]
     },
     "execution_count": 28,
     "metadata": {},
     "output_type": "execute_result"
    }
   ],
   "source": [
    "model.predict(np.array(list(X_test.iloc[1,:])).reshape(1,-1))[0]"
   ]
  },
  {
   "cell_type": "code",
   "execution_count": 31,
   "metadata": {},
   "outputs": [
    {
     "data": {
      "text/plain": [
       "[-1,\n",
       " -1,\n",
       " 0,\n",
       " 1,\n",
       " 0,\n",
       " 0,\n",
       " 0,\n",
       " 0,\n",
       " 3393,\n",
       " 0,\n",
       " 0,\n",
       " 0,\n",
       " 0,\n",
       " 0,\n",
       " 1,\n",
       " 0,\n",
       " 0,\n",
       " 0,\n",
       " 1,\n",
       " 0,\n",
       " 0,\n",
       " 0,\n",
       " 0,\n",
       " 0,\n",
       " 0,\n",
       " 0,\n",
       " 0,\n",
       " 1,\n",
       " 0,\n",
       " 0,\n",
       " 0,\n",
       " 0,\n",
       " 0,\n",
       " 0,\n",
       " 0,\n",
       " 0,\n",
       " 0,\n",
       " 0,\n",
       " 0,\n",
       " 0,\n",
       " 0,\n",
       " 0,\n",
       " 0,\n",
       " 0,\n",
       " 0,\n",
       " 0,\n",
       " 0,\n",
       " 0,\n",
       " 0,\n",
       " 0,\n",
       " 0,\n",
       " 0,\n",
       " 1,\n",
       " 0,\n",
       " 0,\n",
       " 0,\n",
       " 0,\n",
       " 0,\n",
       " 0,\n",
       " 0,\n",
       " 0,\n",
       " 0,\n",
       " 0,\n",
       " 0,\n",
       " 0,\n",
       " 0,\n",
       " 0,\n",
       " 1,\n",
       " 0,\n",
       " 0,\n",
       " 0,\n",
       " 0,\n",
       " 0,\n",
       " 0,\n",
       " 0,\n",
       " 0,\n",
       " 0,\n",
       " 1,\n",
       " 0,\n",
       " 0,\n",
       " 0,\n",
       " 0,\n",
       " 0,\n",
       " 0,\n",
       " 0,\n",
       " 0,\n",
       " 0,\n",
       " 0,\n",
       " 1,\n",
       " 0,\n",
       " 1,\n",
       " 0]"
      ]
     },
     "execution_count": 31,
     "metadata": {},
     "output_type": "execute_result"
    }
   ],
   "source": [
    "list(X_test.iloc[1,:])"
   ]
  },
  {
   "cell_type": "code",
   "execution_count": 33,
   "metadata": {},
   "outputs": [],
   "source": [
    "df1 = X_test"
   ]
  },
  {
   "cell_type": "code",
   "execution_count": 35,
   "metadata": {},
   "outputs": [],
   "source": [
    "df1.to_csv (r'C:\\Users\\khairie\\Documents\\ds_comp_rating_proj\\FlaskAPI\\X_test.csv', index = False, header=True)"
   ]
  },
  {
   "cell_type": "code",
   "execution_count": null,
   "metadata": {},
   "outputs": [],
   "source": []
  }
 ],
 "metadata": {
  "kernelspec": {
   "display_name": "Python 3",
   "language": "python",
   "name": "python3"
  },
  "language_info": {
   "codemirror_mode": {
    "name": "ipython",
    "version": 3
   },
   "file_extension": ".py",
   "mimetype": "text/x-python",
   "name": "python",
   "nbconvert_exporter": "python",
   "pygments_lexer": "ipython3",
   "version": "3.7.4"
  }
 },
 "nbformat": 4,
 "nbformat_minor": 2
}
